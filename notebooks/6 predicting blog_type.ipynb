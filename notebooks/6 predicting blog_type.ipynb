{
 "cells": [
  {
   "cell_type": "code",
   "execution_count": 1,
   "metadata": {},
   "outputs": [],
   "source": [
    "import pandas as pd\n",
    "import numpy as np\n",
    "\n",
    "import os\n",
    "import os.path\n",
    "import re\n",
    "import string\n",
    "import collections\n",
    "import math\n",
    "from collections import Counter\n",
    "import random\n",
    "\n",
    "frequentwords = ['a', 'all', 'also', 'an', 'and', 'any', 'are', 'as', 'at', 'be', 'been', 'but', 'by', 'can', 'do', 'down', 'even', 'every', 'for', 'from', 'had', 'has', 'have', 'her', 'his', 'if', 'in', 'into', 'is', 'it', 'its', 'may', 'more', 'must', 'my', 'no', 'not', 'now', 'of', 'on', 'one', 'only', 'or', 'our', 'shall', 'should', 'so', 'some', 'such', 'than', 'that', 'the', 'their', 'then', 'there', 'things', 'this', 'to', 'up', 'upon', 'was', 'were', 'what', 'when', 'which', 'who', 'will', 'with', 'would', 'your']\n",
    "\n",
    "path = '../data/Raw/blogs/blogs/'\n",
    "files = os.listdir(path)\n",
    "files.sort() \n",
    "\n",
    "df = pd.read_csv('../data/Processed/dataframe_2.csv')\n",
    "df = df.sort_values('total_words', ascending = False)"
   ]
  },
  {
   "cell_type": "code",
   "execution_count": 9,
   "metadata": {},
   "outputs": [
    {
     "data": {
      "text/html": [
       "<div>\n",
       "<style scoped>\n",
       "    .dataframe tbody tr th:only-of-type {\n",
       "        vertical-align: middle;\n",
       "    }\n",
       "\n",
       "    .dataframe tbody tr th {\n",
       "        vertical-align: top;\n",
       "    }\n",
       "\n",
       "    .dataframe thead th {\n",
       "        text-align: right;\n",
       "    }\n",
       "</style>\n",
       "<table border=\"1\" class=\"dataframe\">\n",
       "  <thead>\n",
       "    <tr style=\"text-align: right;\">\n",
       "      <th></th>\n",
       "      <th>unknown</th>\n",
       "      <th>a</th>\n",
       "      <th>all</th>\n",
       "      <th>also</th>\n",
       "      <th>an</th>\n",
       "      <th>and</th>\n",
       "      <th>any</th>\n",
       "      <th>are</th>\n",
       "      <th>as</th>\n",
       "      <th>at</th>\n",
       "      <th>...</th>\n",
       "      <th>were</th>\n",
       "      <th>what</th>\n",
       "      <th>when</th>\n",
       "      <th>which</th>\n",
       "      <th>who</th>\n",
       "      <th>will</th>\n",
       "      <th>with</th>\n",
       "      <th>would</th>\n",
       "      <th>your</th>\n",
       "      <th>other_words</th>\n",
       "    </tr>\n",
       "  </thead>\n",
       "  <tbody>\n",
       "    <tr>\n",
       "      <th>18813</th>\n",
       "      <td>indUnk</td>\n",
       "      <td>8208</td>\n",
       "      <td>1973</td>\n",
       "      <td>377</td>\n",
       "      <td>853</td>\n",
       "      <td>14085</td>\n",
       "      <td>450</td>\n",
       "      <td>1926</td>\n",
       "      <td>2089</td>\n",
       "      <td>2601</td>\n",
       "      <td>...</td>\n",
       "      <td>769</td>\n",
       "      <td>1499</td>\n",
       "      <td>1494</td>\n",
       "      <td>225</td>\n",
       "      <td>489</td>\n",
       "      <td>2064</td>\n",
       "      <td>3675</td>\n",
       "      <td>948</td>\n",
       "      <td>608</td>\n",
       "      <td>264173</td>\n",
       "    </tr>\n",
       "    <tr>\n",
       "      <th>19093</th>\n",
       "      <td>Student</td>\n",
       "      <td>10832</td>\n",
       "      <td>1780</td>\n",
       "      <td>349</td>\n",
       "      <td>1416</td>\n",
       "      <td>10053</td>\n",
       "      <td>723</td>\n",
       "      <td>1841</td>\n",
       "      <td>1652</td>\n",
       "      <td>2371</td>\n",
       "      <td>...</td>\n",
       "      <td>771</td>\n",
       "      <td>1556</td>\n",
       "      <td>964</td>\n",
       "      <td>614</td>\n",
       "      <td>1063</td>\n",
       "      <td>1083</td>\n",
       "      <td>2346</td>\n",
       "      <td>821</td>\n",
       "      <td>1446</td>\n",
       "      <td>262154</td>\n",
       "    </tr>\n",
       "    <tr>\n",
       "      <th>18966</th>\n",
       "      <td>indUnk</td>\n",
       "      <td>7785</td>\n",
       "      <td>1550</td>\n",
       "      <td>630</td>\n",
       "      <td>742</td>\n",
       "      <td>10061</td>\n",
       "      <td>406</td>\n",
       "      <td>730</td>\n",
       "      <td>1236</td>\n",
       "      <td>1730</td>\n",
       "      <td>...</td>\n",
       "      <td>881</td>\n",
       "      <td>883</td>\n",
       "      <td>778</td>\n",
       "      <td>824</td>\n",
       "      <td>366</td>\n",
       "      <td>459</td>\n",
       "      <td>2249</td>\n",
       "      <td>561</td>\n",
       "      <td>298</td>\n",
       "      <td>215372</td>\n",
       "    </tr>\n",
       "    <tr>\n",
       "      <th>176</th>\n",
       "      <td>Education</td>\n",
       "      <td>8461</td>\n",
       "      <td>805</td>\n",
       "      <td>94</td>\n",
       "      <td>797</td>\n",
       "      <td>7596</td>\n",
       "      <td>284</td>\n",
       "      <td>1005</td>\n",
       "      <td>2105</td>\n",
       "      <td>2397</td>\n",
       "      <td>...</td>\n",
       "      <td>344</td>\n",
       "      <td>784</td>\n",
       "      <td>434</td>\n",
       "      <td>257</td>\n",
       "      <td>366</td>\n",
       "      <td>350</td>\n",
       "      <td>2401</td>\n",
       "      <td>371</td>\n",
       "      <td>599</td>\n",
       "      <td>194343</td>\n",
       "    </tr>\n",
       "    <tr>\n",
       "      <th>19263</th>\n",
       "      <td>indUnk</td>\n",
       "      <td>5221</td>\n",
       "      <td>1483</td>\n",
       "      <td>387</td>\n",
       "      <td>698</td>\n",
       "      <td>9461</td>\n",
       "      <td>387</td>\n",
       "      <td>1324</td>\n",
       "      <td>2284</td>\n",
       "      <td>1340</td>\n",
       "      <td>...</td>\n",
       "      <td>578</td>\n",
       "      <td>962</td>\n",
       "      <td>935</td>\n",
       "      <td>1408</td>\n",
       "      <td>1389</td>\n",
       "      <td>764</td>\n",
       "      <td>1729</td>\n",
       "      <td>707</td>\n",
       "      <td>429</td>\n",
       "      <td>175904</td>\n",
       "    </tr>\n",
       "    <tr>\n",
       "      <th>...</th>\n",
       "      <td>...</td>\n",
       "      <td>...</td>\n",
       "      <td>...</td>\n",
       "      <td>...</td>\n",
       "      <td>...</td>\n",
       "      <td>...</td>\n",
       "      <td>...</td>\n",
       "      <td>...</td>\n",
       "      <td>...</td>\n",
       "      <td>...</td>\n",
       "      <td>...</td>\n",
       "      <td>...</td>\n",
       "      <td>...</td>\n",
       "      <td>...</td>\n",
       "      <td>...</td>\n",
       "      <td>...</td>\n",
       "      <td>...</td>\n",
       "      <td>...</td>\n",
       "      <td>...</td>\n",
       "      <td>...</td>\n",
       "      <td>...</td>\n",
       "    </tr>\n",
       "    <tr>\n",
       "      <th>15156</th>\n",
       "      <td>indUnk</td>\n",
       "      <td>4</td>\n",
       "      <td>1</td>\n",
       "      <td>0</td>\n",
       "      <td>0</td>\n",
       "      <td>3</td>\n",
       "      <td>0</td>\n",
       "      <td>5</td>\n",
       "      <td>1</td>\n",
       "      <td>1</td>\n",
       "      <td>...</td>\n",
       "      <td>0</td>\n",
       "      <td>1</td>\n",
       "      <td>0</td>\n",
       "      <td>0</td>\n",
       "      <td>1</td>\n",
       "      <td>0</td>\n",
       "      <td>1</td>\n",
       "      <td>1</td>\n",
       "      <td>1</td>\n",
       "      <td>120</td>\n",
       "    </tr>\n",
       "    <tr>\n",
       "      <th>16976</th>\n",
       "      <td>indUnk</td>\n",
       "      <td>0</td>\n",
       "      <td>0</td>\n",
       "      <td>1</td>\n",
       "      <td>0</td>\n",
       "      <td>0</td>\n",
       "      <td>1</td>\n",
       "      <td>0</td>\n",
       "      <td>0</td>\n",
       "      <td>2</td>\n",
       "      <td>...</td>\n",
       "      <td>0</td>\n",
       "      <td>0</td>\n",
       "      <td>1</td>\n",
       "      <td>0</td>\n",
       "      <td>0</td>\n",
       "      <td>1</td>\n",
       "      <td>0</td>\n",
       "      <td>0</td>\n",
       "      <td>0</td>\n",
       "      <td>76</td>\n",
       "    </tr>\n",
       "    <tr>\n",
       "      <th>3635</th>\n",
       "      <td>Student</td>\n",
       "      <td>1</td>\n",
       "      <td>0</td>\n",
       "      <td>0</td>\n",
       "      <td>0</td>\n",
       "      <td>0</td>\n",
       "      <td>1</td>\n",
       "      <td>0</td>\n",
       "      <td>0</td>\n",
       "      <td>2</td>\n",
       "      <td>...</td>\n",
       "      <td>0</td>\n",
       "      <td>1</td>\n",
       "      <td>1</td>\n",
       "      <td>0</td>\n",
       "      <td>0</td>\n",
       "      <td>0</td>\n",
       "      <td>0</td>\n",
       "      <td>0</td>\n",
       "      <td>0</td>\n",
       "      <td>39</td>\n",
       "    </tr>\n",
       "    <tr>\n",
       "      <th>3902</th>\n",
       "      <td>Student</td>\n",
       "      <td>0</td>\n",
       "      <td>0</td>\n",
       "      <td>0</td>\n",
       "      <td>0</td>\n",
       "      <td>1</td>\n",
       "      <td>0</td>\n",
       "      <td>0</td>\n",
       "      <td>0</td>\n",
       "      <td>0</td>\n",
       "      <td>...</td>\n",
       "      <td>0</td>\n",
       "      <td>0</td>\n",
       "      <td>0</td>\n",
       "      <td>0</td>\n",
       "      <td>0</td>\n",
       "      <td>0</td>\n",
       "      <td>0</td>\n",
       "      <td>0</td>\n",
       "      <td>0</td>\n",
       "      <td>33</td>\n",
       "    </tr>\n",
       "    <tr>\n",
       "      <th>15168</th>\n",
       "      <td>Internet</td>\n",
       "      <td>2</td>\n",
       "      <td>0</td>\n",
       "      <td>0</td>\n",
       "      <td>0</td>\n",
       "      <td>0</td>\n",
       "      <td>0</td>\n",
       "      <td>0</td>\n",
       "      <td>0</td>\n",
       "      <td>0</td>\n",
       "      <td>...</td>\n",
       "      <td>0</td>\n",
       "      <td>0</td>\n",
       "      <td>0</td>\n",
       "      <td>0</td>\n",
       "      <td>0</td>\n",
       "      <td>0</td>\n",
       "      <td>0</td>\n",
       "      <td>0</td>\n",
       "      <td>0</td>\n",
       "      <td>30</td>\n",
       "    </tr>\n",
       "  </tbody>\n",
       "</table>\n",
       "<p>16387 rows × 72 columns</p>\n",
       "</div>"
      ],
      "text/plain": [
       "         unknown      a   all  also    an    and  any   are    as    at  ...  \\\n",
       "18813     indUnk   8208  1973   377   853  14085  450  1926  2089  2601  ...   \n",
       "19093    Student  10832  1780   349  1416  10053  723  1841  1652  2371  ...   \n",
       "18966     indUnk   7785  1550   630   742  10061  406   730  1236  1730  ...   \n",
       "176    Education   8461   805    94   797   7596  284  1005  2105  2397  ...   \n",
       "19263     indUnk   5221  1483   387   698   9461  387  1324  2284  1340  ...   \n",
       "...          ...    ...   ...   ...   ...    ...  ...   ...   ...   ...  ...   \n",
       "15156     indUnk      4     1     0     0      3    0     5     1     1  ...   \n",
       "16976     indUnk      0     0     1     0      0    1     0     0     2  ...   \n",
       "3635     Student      1     0     0     0      0    1     0     0     2  ...   \n",
       "3902     Student      0     0     0     0      1    0     0     0     0  ...   \n",
       "15168   Internet      2     0     0     0      0    0     0     0     0  ...   \n",
       "\n",
       "       were  what  when  which   who  will  with  would  your  other_words  \n",
       "18813   769  1499  1494    225   489  2064  3675    948   608       264173  \n",
       "19093   771  1556   964    614  1063  1083  2346    821  1446       262154  \n",
       "18966   881   883   778    824   366   459  2249    561   298       215372  \n",
       "176     344   784   434    257   366   350  2401    371   599       194343  \n",
       "19263   578   962   935   1408  1389   764  1729    707   429       175904  \n",
       "...     ...   ...   ...    ...   ...   ...   ...    ...   ...          ...  \n",
       "15156     0     1     0      0     1     0     1      1     1          120  \n",
       "16976     0     0     1      0     0     1     0      0     0           76  \n",
       "3635      0     1     1      0     0     0     0      0     0           39  \n",
       "3902      0     0     0      0     0     0     0      0     0           33  \n",
       "15168     0     0     0      0     0     0     0      0     0           30  \n",
       "\n",
       "[16387 rows x 72 columns]"
      ]
     },
     "execution_count": 9,
     "metadata": {},
     "output_type": "execute_result"
    }
   ],
   "source": [
    "top_10 = list(df.groupby('unknown').size().sort_values().tail(10).index)\n",
    "\n",
    "data = df[np.isin(df.unknown,top_10)].drop(['id','age','star_sign','total_words','gender'],axis=1)\n",
    "data"
   ]
  },
  {
   "cell_type": "code",
   "execution_count": 10,
   "metadata": {},
   "outputs": [
    {
     "data": {
      "text/plain": [
       "array(['indUnk', 'Student', 'Education', 'Non-Profit', 'Arts',\n",
       "       'Technology', 'Internet', 'Engineering', 'Communications-Media',\n",
       "       'Government'], dtype=object)"
      ]
     },
     "execution_count": 10,
     "metadata": {},
     "output_type": "execute_result"
    }
   ],
   "source": [
    "X = data.drop(['unknown'],axis=1)\n",
    "y = data['unknown']\n",
    "data['unknown'].unique()"
   ]
  },
  {
   "cell_type": "code",
   "execution_count": 11,
   "metadata": {},
   "outputs": [],
   "source": [
    "from sklearn.model_selection import train_test_split\n",
    "X_train,X_test,y_train,y_test = train_test_split(X,y,test_size = 0.2)"
   ]
  },
  {
   "cell_type": "code",
   "execution_count": 12,
   "metadata": {},
   "outputs": [
    {
     "name": "stderr",
     "output_type": "stream",
     "text": [
      "C:\\Users\\jonah\\anaconda3\\lib\\site-packages\\sklearn\\linear_model\\_sag.py:352: ConvergenceWarning: The max_iter was reached which means the coef_ did not converge\n",
      "  warnings.warn(\n"
     ]
    },
    {
     "data": {
      "text/plain": [
       "LogisticRegression(max_iter=1000, penalty='l1', solver='saga')"
      ]
     },
     "execution_count": 12,
     "metadata": {},
     "output_type": "execute_result"
    }
   ],
   "source": [
    "from sklearn.linear_model import LogisticRegression\n",
    "from sklearn.preprocessing import StandardScaler\n",
    "\n",
    "log_model = LogisticRegression(solver = 'saga',penalty = 'l1',max_iter = 1000)\n",
    "\n",
    "X_train = StandardScaler().fit_transform(X_train)\n",
    "X_test = StandardScaler().fit_transform(X_test)\n",
    "\n",
    "log_model.fit(X_train,y_train)"
   ]
  },
  {
   "cell_type": "code",
   "execution_count": 13,
   "metadata": {},
   "outputs": [
    {
     "data": {
      "text/plain": [
       "0.42556436851738866"
      ]
     },
     "execution_count": 13,
     "metadata": {},
     "output_type": "execute_result"
    }
   ],
   "source": [
    "preds = log_model.predict(X_test)\n",
    "sum(np.where(preds == y_test,1,0))/len(X_test)"
   ]
  },
  {
   "cell_type": "code",
   "execution_count": 14,
   "metadata": {},
   "outputs": [
    {
     "data": {
      "text/plain": [
       "KNeighborsClassifier(algorithm='brute')"
      ]
     },
     "execution_count": 14,
     "metadata": {},
     "output_type": "execute_result"
    }
   ],
   "source": [
    "from sklearn.neighbors import KNeighborsClassifier\n",
    "\n",
    "knn_model = KNeighborsClassifier(algorithm = 'brute')\n",
    "knn_model.fit(X_train,y_train)"
   ]
  },
  {
   "cell_type": "code",
   "execution_count": 15,
   "metadata": {},
   "outputs": [
    {
     "data": {
      "text/plain": [
       "0.3483831604636974"
      ]
     },
     "execution_count": 15,
     "metadata": {},
     "output_type": "execute_result"
    }
   ],
   "source": [
    "preds = knn_model.predict(X_test)\n",
    "sum(np.where(preds == y_test,1,0))/len(X_test)"
   ]
  },
  {
   "cell_type": "code",
   "execution_count": 16,
   "metadata": {},
   "outputs": [
    {
     "data": {
      "text/plain": [
       "DecisionTreeClassifier(max_depth=200)"
      ]
     },
     "execution_count": 16,
     "metadata": {},
     "output_type": "execute_result"
    }
   ],
   "source": [
    "from sklearn.tree import DecisionTreeClassifier \n",
    "tree_model = DecisionTreeClassifier(max_depth = 200)\n",
    "\n",
    "tree_model.fit(X_train,y_train)"
   ]
  },
  {
   "cell_type": "code",
   "execution_count": 17,
   "metadata": {},
   "outputs": [
    {
     "data": {
      "text/plain": [
       "0.2788285539963392"
      ]
     },
     "execution_count": 17,
     "metadata": {},
     "output_type": "execute_result"
    }
   ],
   "source": [
    "preds = tree_model.predict(X_test)\n",
    "sum(np.where(preds == y_test,1,0))/len(X_test)"
   ]
  },
  {
   "cell_type": "code",
   "execution_count": null,
   "metadata": {},
   "outputs": [],
   "source": []
  }
 ],
 "metadata": {
  "interpreter": {
   "hash": "2fa43e22267dbea74266feebc86126203b276319521e1b4ac30d272ff1e19e68"
  },
  "kernelspec": {
   "display_name": "Python 3.9.7 ('base')",
   "language": "python",
   "name": "python3"
  },
  "language_info": {
   "codemirror_mode": {
    "name": "ipython",
    "version": 3
   },
   "file_extension": ".py",
   "mimetype": "text/x-python",
   "name": "python",
   "nbconvert_exporter": "python",
   "pygments_lexer": "ipython3",
   "version": "3.9.7"
  },
  "orig_nbformat": 4
 },
 "nbformat": 4,
 "nbformat_minor": 2
}
