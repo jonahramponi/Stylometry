{
 "cells": [
  {
   "cell_type": "code",
   "execution_count": 1,
   "metadata": {},
   "outputs": [],
   "source": [
    "import pandas as pd\n",
    "import numpy as np\n",
    "\n",
    "import os\n",
    "import os.path\n",
    "import re\n",
    "import string\n",
    "import collections\n",
    "import math\n",
    "from collections import Counter\n",
    "import random\n",
    "\n",
    "frequentwords = ['a', 'all', 'also', 'an', 'and', 'any', 'are', 'as', 'at', 'be', 'been', 'but', 'by', 'can', 'do', 'down', 'even', 'every', 'for', 'from', 'had', 'has', 'have', 'her', 'his', 'if', 'in', 'into', 'is', 'it', 'its', 'may', 'more', 'must', 'my', 'no', 'not', 'now', 'of', 'on', 'one', 'only', 'or', 'our', 'shall', 'should', 'so', 'some', 'such', 'than', 'that', 'the', 'their', 'then', 'there', 'things', 'this', 'to', 'up', 'upon', 'was', 'were', 'what', 'when', 'which', 'who', 'will', 'with', 'would', 'your']\n",
    "\n",
    "path = '../data/Raw/blogs/blogs/'\n",
    "files = os.listdir(path)\n",
    "files.sort() \n",
    "\n",
    "df = pd.read_csv('../data/Processed/dataframe_2.csv')\n",
    "df = df.sort_values('total_words', ascending = False)"
   ]
  },
  {
   "cell_type": "code",
   "execution_count": 2,
   "metadata": {},
   "outputs": [],
   "source": [
    "df_age = df.drop(['id','gender','unknown','star_sign','total_words'],axis=1)\n",
    "X = df_age.drop(['age'],axis=1)\n",
    "y = df_age['age']"
   ]
  },
  {
   "cell_type": "code",
   "execution_count": 5,
   "metadata": {},
   "outputs": [],
   "source": [
    "#%pip install sklearn\n",
    "from sklearn.linear_model import LinearRegression\n",
    "from sklearn.ensemble import RandomForestRegressor\n",
    "from sklearn.neighbors import KNeighborsRegressor\n",
    "from sklearn.neural_network import MLPRegressor\n",
    "\n",
    "lr = LinearRegression()\n",
    "rf = RandomForestRegressor(n_estimators = 10)\n",
    "knn = KNeighborsRegressor()\n",
    "mlp = MLPRegressor(solver ='adam',activation = 'logistic')"
   ]
  },
  {
   "cell_type": "code",
   "execution_count": null,
   "metadata": {},
   "outputs": [],
   "source": [
    "from sklearn.model_selection import train_test_split\n",
    "from sklearn.metrics import r2_score\n",
    "from sklearn.metrics import mean_absolute_error\n",
    "from sklearn.metrics import mean_squared_error\n",
    "r2 = [] \n",
    "mae = []\n",
    "mse = []\n",
    "for i in range (0,10):\n",
    "    print(i)\n",
    "    X_train,X_test,y_train,y_test = train_test_split(X,y,test_size = 0.2)\n",
    "    lr.fit(X_train,y_train)\n",
    "    r2.append(r2_score(y_test,lr.predict(X_test)))\n",
    "    mae.append(mean_absolute_error(y_test,lr.predict(X_test)))\n",
    "    mse.append(mean_squared_error(y_test,lr.predict(X_test)))\n",
    "    rf.fit(X_train,y_train)\n",
    "    r2.append(r2_score(y_test,rf.predict(X_test)))\n",
    "    mae.append(mean_absolute_error(y_test,rf.predict(X_test)))\n",
    "    mse.append(mean_squared_error(y_test,rf.predict(X_test)))\n",
    "    knn.fit(X_train,y_train)\n",
    "    r2.append(r2_score(y_test,knn.predict(X_test)))\n",
    "    mae.append(mean_absolute_error(y_test,knn.predict(X_test)))\n",
    "    mse.append(mean_squared_error(y_test,knn.predict(X_test)))\n",
    "    mlp.fit(X_train,y_train)\n",
    "    r2.append(r2_score(y_test,mlp.predict(X_test)))\n",
    "    mae.append(mean_absolute_error(y_test,mlp.predict(X_test)))\n",
    "    mse.append(mean_squared_error(y_test,mlp.predict(X_test)))"
   ]
  },
  {
   "cell_type": "code",
   "execution_count": null,
   "metadata": {},
   "outputs": [],
   "source": [
    "df_plot2 = pd.DataFrame({'r2':r2,'mae':mae,'mse':mse})\n",
    "\n",
    "df_plot2['Model'] = 10*['LR','RF','KNN','NN']\n",
    "df_plot2.groupby('Model').mean()"
   ]
  }
 ],
 "metadata": {
  "interpreter": {
   "hash": "09407eb219dc0eb86bd025dbfc6e2b7f35fa84e5bcb4cc7dd7d0e486c0874770"
  },
  "kernelspec": {
   "display_name": "Python 3.9.11 64-bit (windows store)",
   "language": "python",
   "name": "python3"
  },
  "language_info": {
   "codemirror_mode": {
    "name": "ipython",
    "version": 3
   },
   "file_extension": ".py",
   "mimetype": "text/x-python",
   "name": "python",
   "nbconvert_exporter": "python",
   "pygments_lexer": "ipython3",
   "version": "3.9.11"
  },
  "orig_nbformat": 4
 },
 "nbformat": 4,
 "nbformat_minor": 2
}
