{
 "cells": [
  {
   "cell_type": "markdown",
   "metadata": {},
   "source": [
    "### Necessary Imports"
   ]
  },
  {
   "cell_type": "code",
   "execution_count": 1,
   "metadata": {},
   "outputs": [],
   "source": [
    "import pandas as pd\n",
    "import numpy as np\n",
    "\n",
    "#imports from extract function words \n",
    "import os\n",
    "import os.path\n",
    "import re\n",
    "import string\n",
    "import collections\n",
    "import math\n",
    "from collections import Counter\n",
    "import random\n",
    "\n",
    "# plotting \n",
    "import seaborn as sns\n",
    "from matplotlib import pyplot as plt"
   ]
  },
  {
   "cell_type": "markdown",
   "metadata": {},
   "source": [
    "### Sklearn Imports"
   ]
  },
  {
   "cell_type": "code",
   "execution_count": 2,
   "metadata": {},
   "outputs": [],
   "source": [
    "from sklearn.preprocessing import StandardScaler\n",
    "\n",
    "from sklearn.svm import SVC\n",
    "from sklearn.neighbors import KNeighborsClassifier\n",
    "from sklearn.neural_network import MLPClassifier\n",
    "from sklearn.linear_model import LogisticRegression\n",
    "from sklearn.ensemble import RandomForestClassifier"
   ]
  },
  {
   "cell_type": "markdown",
   "metadata": {},
   "source": [
    "### Data Loading"
   ]
  },
  {
   "cell_type": "code",
   "execution_count": 3,
   "metadata": {},
   "outputs": [],
   "source": [
    "frequentwords = ['a', 'all', 'also', 'an', 'and', 'any', 'are', 'as', 'at', 'be', 'been', 'but', 'by', 'can', 'do', 'down', 'even', 'every', 'for', 'from', 'had', 'has', 'have', 'her', 'his', 'if', 'in', 'into', 'is', 'it', 'its', 'may', 'more', 'must', 'my', 'no', 'not', 'now', 'of', 'on', 'one', 'only', 'or', 'our', 'shall', 'should', 'so', 'some', 'such', 'than', 'that', 'the', 'their', 'then', 'there', 'things', 'this', 'to', 'up', 'upon', 'was', 'were', 'what', 'when', 'which', 'who', 'will', 'with', 'would', 'your']\n",
    "\n",
    "path = '../data/Raw/blogs/blogs/'\n",
    "files = os.listdir(path)\n",
    "files.sort() \n",
    "\n",
    "df = pd.read_csv('../data/Processed/dataframe_2.csv')\n",
    "df = df.sort_values('total_words', ascending = False)"
   ]
  },
  {
   "cell_type": "markdown",
   "metadata": {},
   "source": [
    "### Get Train Test function"
   ]
  },
  {
   "cell_type": "code",
   "execution_count": 4,
   "metadata": {},
   "outputs": [],
   "source": [
    "def get_train_test_sample(df,train_n,test_n,take):\n",
    "    target = train_n+test_n\n",
    "    temp = df[df['total_words'] >= target].head(take)\n",
    "    train_vecs = [] \n",
    "    test_vecs = [] \n",
    "    ids = []\n",
    "    for i in temp.iterrows():\n",
    "        words = i[1][-1] - i[1][-2]\n",
    " \n",
    "        random_words =random.sample([i for i in range(0,words)],train_n)\n",
    "\n",
    "        trvec = [] \n",
    "        prev_len = 0\n",
    "        for x in i[1].index:\n",
    "            if np.isin(x,frequentwords) == True:\n",
    "                size = i[1][x]\n",
    "                count = [i for i in random_words if prev_len <= i < prev_len + size ]\n",
    "                prev_len = size\n",
    "                trvec.append(len(count))\n",
    "\n",
    "        random_words = random.sample(list(range(0,words)),test_n)\n",
    "\n",
    "        tevec = [] \n",
    "        prev_len = 0\n",
    "        for x in i[1].index:\n",
    "            if np.isin(x,frequentwords) == True:\n",
    "                size = i[1][x]\n",
    "                count = [i for i in random_words if prev_len <= i < prev_len + size ]\n",
    "                prev_len = size\n",
    "                tevec.append(len(count))\n",
    "\n",
    "        ids.append(i[1][0])\n",
    "        test_vecs.append(tevec)\n",
    "        train_vecs.append(trvec)\n",
    "    return([ids,test_vecs,train_vecs])"
   ]
  },
  {
   "cell_type": "markdown",
   "metadata": {},
   "source": [
    "#### Varying number of authors"
   ]
  },
  {
   "cell_type": "code",
   "execution_count": 5,
   "metadata": {},
   "outputs": [
    {
     "name": "stdout",
     "output_type": "stream",
     "text": [
      "10\n",
      "20\n",
      "30\n",
      "40\n",
      "50\n",
      "60\n",
      "70\n",
      "80\n",
      "90\n",
      "100\n"
     ]
    }
   ],
   "source": [
    "trains = []\n",
    "tests = []\n",
    "ys = []\n",
    "authors = [10,20,30,40,50,60,70,80,90,100]\n",
    "for i in authors:\n",
    "    print(i)\n",
    "    ids,test,train = get_train_test_sample(df,5000,1000,i)\n",
    "    X_test = pd.DataFrame(test)\n",
    "    X_train = pd.DataFrame(train)\n",
    "    y = ids\n",
    "\n",
    "    trains.append(X_train)\n",
    "    tests.append(X_test)\n",
    "    ys.append(y)"
   ]
  },
  {
   "cell_type": "code",
   "execution_count": 6,
   "metadata": {},
   "outputs": [],
   "source": [
    "rf_predictions = []\n",
    "knn_predictions = []\n",
    "net_predictions = []\n",
    "log_predictions = []\n",
    "svc_predictions = [] \n",
    "no_scaler_rf = [] \n",
    "no_scaler_knn = [] "
   ]
  },
  {
   "cell_type": "code",
   "execution_count": 7,
   "metadata": {},
   "outputs": [
    {
     "name": "stdout",
     "output_type": "stream",
     "text": [
      "100\n"
     ]
    },
    {
     "name": "stderr",
     "output_type": "stream",
     "text": [
      "C:\\Users\\jonah\\anaconda3\\lib\\site-packages\\sklearn\\linear_model\\_sag.py:352: ConvergenceWarning: The max_iter was reached which means the coef_ did not converge\n",
      "  warnings.warn(\n"
     ]
    },
    {
     "name": "stdout",
     "output_type": "stream",
     "text": [
      "100\n"
     ]
    },
    {
     "name": "stderr",
     "output_type": "stream",
     "text": [
      "C:\\Users\\jonah\\anaconda3\\lib\\site-packages\\sklearn\\linear_model\\_sag.py:352: ConvergenceWarning: The max_iter was reached which means the coef_ did not converge\n",
      "  warnings.warn(\n"
     ]
    },
    {
     "name": "stdout",
     "output_type": "stream",
     "text": [
      "100\n"
     ]
    },
    {
     "name": "stderr",
     "output_type": "stream",
     "text": [
      "C:\\Users\\jonah\\anaconda3\\lib\\site-packages\\sklearn\\linear_model\\_sag.py:352: ConvergenceWarning: The max_iter was reached which means the coef_ did not converge\n",
      "  warnings.warn(\n"
     ]
    },
    {
     "name": "stdout",
     "output_type": "stream",
     "text": [
      "100\n"
     ]
    },
    {
     "name": "stderr",
     "output_type": "stream",
     "text": [
      "C:\\Users\\jonah\\anaconda3\\lib\\site-packages\\sklearn\\linear_model\\_sag.py:352: ConvergenceWarning: The max_iter was reached which means the coef_ did not converge\n",
      "  warnings.warn(\n"
     ]
    },
    {
     "name": "stdout",
     "output_type": "stream",
     "text": [
      "100\n"
     ]
    },
    {
     "name": "stderr",
     "output_type": "stream",
     "text": [
      "C:\\Users\\jonah\\anaconda3\\lib\\site-packages\\sklearn\\linear_model\\_sag.py:352: ConvergenceWarning: The max_iter was reached which means the coef_ did not converge\n",
      "  warnings.warn(\n"
     ]
    },
    {
     "name": "stdout",
     "output_type": "stream",
     "text": [
      "100\n"
     ]
    },
    {
     "name": "stderr",
     "output_type": "stream",
     "text": [
      "C:\\Users\\jonah\\anaconda3\\lib\\site-packages\\sklearn\\linear_model\\_sag.py:352: ConvergenceWarning: The max_iter was reached which means the coef_ did not converge\n",
      "  warnings.warn(\n"
     ]
    },
    {
     "name": "stdout",
     "output_type": "stream",
     "text": [
      "100\n"
     ]
    },
    {
     "name": "stderr",
     "output_type": "stream",
     "text": [
      "C:\\Users\\jonah\\anaconda3\\lib\\site-packages\\sklearn\\linear_model\\_sag.py:352: ConvergenceWarning: The max_iter was reached which means the coef_ did not converge\n",
      "  warnings.warn(\n"
     ]
    },
    {
     "name": "stdout",
     "output_type": "stream",
     "text": [
      "100\n"
     ]
    },
    {
     "name": "stderr",
     "output_type": "stream",
     "text": [
      "C:\\Users\\jonah\\anaconda3\\lib\\site-packages\\sklearn\\linear_model\\_sag.py:352: ConvergenceWarning: The max_iter was reached which means the coef_ did not converge\n",
      "  warnings.warn(\n"
     ]
    },
    {
     "name": "stdout",
     "output_type": "stream",
     "text": [
      "100\n"
     ]
    },
    {
     "name": "stderr",
     "output_type": "stream",
     "text": [
      "C:\\Users\\jonah\\anaconda3\\lib\\site-packages\\sklearn\\linear_model\\_sag.py:352: ConvergenceWarning: The max_iter was reached which means the coef_ did not converge\n",
      "  warnings.warn(\n"
     ]
    },
    {
     "name": "stdout",
     "output_type": "stream",
     "text": [
      "100\n"
     ]
    },
    {
     "name": "stderr",
     "output_type": "stream",
     "text": [
      "C:\\Users\\jonah\\anaconda3\\lib\\site-packages\\sklearn\\linear_model\\_sag.py:352: ConvergenceWarning: The max_iter was reached which means the coef_ did not converge\n",
      "  warnings.warn(\n"
     ]
    }
   ],
   "source": [
    "for j in range (0,len(trains)):\n",
    "    print(i)\n",
    "    X_train = trains[j]\n",
    "    X_test = tests[j]\n",
    "    y = ys[j]\n",
    "\n",
    "    tree_model =  RandomForestClassifier(n_estimators = 500)\n",
    "    tree_model.fit(X_train,y)\n",
    "    t_predictions = tree_model.predict(X_test)\n",
    "    no_scaler_rf.append(sum(np.where(y-t_predictions == 0,1,0))/len(t_predictions))\n",
    "\n",
    "    tree_model =  KNeighborsClassifier(n_neighbors=1)\n",
    "    tree_model.fit(X_train,y)\n",
    "    t_predictions = tree_model.predict(X_test)\n",
    "    no_scaler_knn.append(sum(np.where(y-t_predictions == 0,1,0))/len(t_predictions))\n",
    "\n",
    "    X_train = StandardScaler().fit_transform(X_train)\n",
    "    X_test = StandardScaler().fit_transform(X_test)\n",
    "\n",
    "    tree_model =  RandomForestClassifier(n_estimators = 500)\n",
    "    knn_model = KNeighborsClassifier(algorithm = 'brute', n_neighbors = 1)\n",
    "    net_model = MLPClassifier(solver='adam', alpha=0.001,hidden_layer_sizes=(100, 70),activation = 'logistic',max_iter = 1000)\n",
    "    log_model = LogisticRegression(solver = 'saga',penalty = 'l1',max_iter = 1000)\n",
    "    svc_model = SVC()\n",
    "\n",
    "    tree_model.fit(X_train,y)\n",
    "    t_predictions = tree_model.predict(X_test)\n",
    "    rf_predictions.append(sum(np.where(y-t_predictions == 0,1,0))/len(t_predictions))\n",
    "\n",
    "    knn_model.fit(X_train,y)\n",
    "    k_predictions = knn_model.predict(X_test)\n",
    "    knn_predictions.append(sum(np.where(y-k_predictions == 0,1,0))/len(k_predictions))\n",
    "\n",
    "    net_model.fit(X_train,y)\n",
    "    n_predictions = net_model.predict(X_test)\n",
    "    net_predictions.append(sum(np.where(y-n_predictions == 0,1,0))/len(n_predictions))\n",
    "\n",
    "    log_model.fit(X_train,y)\n",
    "    l_predictions = log_model.predict(X_test)\n",
    "    log_predictions.append(sum(np.where(y-l_predictions == 0,1,0))/len(l_predictions))\n",
    "\n",
    "    svc_model.fit(X_train,y)\n",
    "    l_predictions = svc_model.predict(X_test)\n",
    "    svc_predictions.append(sum(np.where(y-l_predictions == 0,1,0))/len(l_predictions))"
   ]
  },
  {
   "cell_type": "code",
   "execution_count": 14,
   "metadata": {},
   "outputs": [],
   "source": [
    "splits = authors\n",
    "\n",
    "df1 = (pd.DataFrame({'value': rf_predictions,'split':splits,'Model': 'RF'}))\n",
    "df1b = (pd.DataFrame({'value': no_scaler_rf,'split':splits,'Model': 'RF (no scaler)'}))\n",
    "\n",
    "df2 = (pd.DataFrame({'value': knn_predictions,'split':splits,'Model': 'KNN'}))\n",
    "df2b = (pd.DataFrame({'value': no_scaler_knn,'split':splits,'Model': 'KNN (no scaler)'}))\n",
    "\n",
    "df3 = (pd.DataFrame({'value': net_predictions,'split':splits,'Model': 'NN'}))\n",
    "df4 = (pd.DataFrame({'value': log_predictions,'split':splits,'Model': 'MN. R'}))\n",
    "\n",
    "df5 = (pd.DataFrame({'value': svc_predictions,'split':splits,'Model': 'SVM'}))"
   ]
  },
  {
   "cell_type": "markdown",
   "metadata": {},
   "source": [
    "### Comparing Course Models"
   ]
  },
  {
   "cell_type": "code",
   "execution_count": 9,
   "metadata": {},
   "outputs": [
    {
     "data": {
      "text/plain": [
       "Text(28.467916666666667, 0.5, 'Accuracy')"
      ]
     },
     "execution_count": 9,
     "metadata": {},
     "output_type": "execute_result"
    },
    {
     "data": {
      "image/png": "[encoded data removed]",
      "text/plain": [
       "<Figure size 417.75x360 with 1 Axes>"
      ]
     },
     "metadata": {
      "needs_background": "light"
     },
     "output_type": "display_data"
    }
   ],
   "source": [
    "df_plot = pd.concat([df1,df2,df5])\n",
    "sns.lmplot(data = df_plot,x='split',y='value',hue='Model', palette='coolwarm')\n",
    "plt.xlabel('Number of Authors')\n",
    "plt.ylabel('Accuracy')"
   ]
  },
  {
   "cell_type": "markdown",
   "metadata": {},
   "source": [
    "### Comparing Net, Multinomial vs KNN "
   ]
  },
  {
   "cell_type": "code",
   "execution_count": 15,
   "metadata": {},
   "outputs": [
    {
     "data": {
      "text/plain": [
       "Text(29.48034722222222, 0.5, 'Accuracy')"
      ]
     },
     "execution_count": 15,
     "metadata": {},
     "output_type": "execute_result"
    },
    {
     "data": {
      "image/png": "[encoded data removed]",
      "text/plain": [
       "<Figure size 425.375x360 with 1 Axes>"
      ]
     },
     "metadata": {
      "needs_background": "light"
     },
     "output_type": "display_data"
    }
   ],
   "source": [
    "df_plot = pd.concat([df3,df2,df4])\n",
    "sns.lmplot(data = df_plot,x='split',y='value',hue='Model', palette='coolwarm')\n",
    "plt.xlabel('Number of words Authors')\n",
    "plt.ylabel('Accuracy')"
   ]
  },
  {
   "cell_type": "markdown",
   "metadata": {},
   "source": [
    "### Average Accuracy Metrics"
   ]
  },
  {
   "cell_type": "code",
   "execution_count": 11,
   "metadata": {},
   "outputs": [
    {
     "data": {
      "text/html": [
       "<div>\n",
       "<style scoped>\n",
       "    .dataframe tbody tr th:only-of-type {\n",
       "        vertical-align: middle;\n",
       "    }\n",
       "\n",
       "    .dataframe tbody tr th {\n",
       "        vertical-align: top;\n",
       "    }\n",
       "\n",
       "    .dataframe thead th {\n",
       "        text-align: right;\n",
       "    }\n",
       "</style>\n",
       "<table border=\"1\" class=\"dataframe\">\n",
       "  <thead>\n",
       "    <tr style=\"text-align: right;\">\n",
       "      <th></th>\n",
       "      <th>value</th>\n",
       "      <th>split</th>\n",
       "    </tr>\n",
       "    <tr>\n",
       "      <th>Model</th>\n",
       "      <th></th>\n",
       "      <th></th>\n",
       "    </tr>\n",
       "  </thead>\n",
       "  <tbody>\n",
       "    <tr>\n",
       "      <th>RF (no scaler)</th>\n",
       "      <td>0.039841</td>\n",
       "      <td>55.0</td>\n",
       "    </tr>\n",
       "    <tr>\n",
       "      <th>Multinomial Regression</th>\n",
       "      <td>0.521115</td>\n",
       "      <td>55.0</td>\n",
       "    </tr>\n",
       "    <tr>\n",
       "      <th>Neural Net</th>\n",
       "      <td>0.546250</td>\n",
       "      <td>55.0</td>\n",
       "    </tr>\n",
       "    <tr>\n",
       "      <th>RF</th>\n",
       "      <td>0.637060</td>\n",
       "      <td>55.0</td>\n",
       "    </tr>\n",
       "    <tr>\n",
       "      <th>KNN</th>\n",
       "      <td>0.758409</td>\n",
       "      <td>55.0</td>\n",
       "    </tr>\n",
       "    <tr>\n",
       "      <th>SVM</th>\n",
       "      <td>0.758409</td>\n",
       "      <td>55.0</td>\n",
       "    </tr>\n",
       "  </tbody>\n",
       "</table>\n",
       "</div>"
      ],
      "text/plain": [
       "                           value  split\n",
       "Model                                  \n",
       "RF (no scaler)          0.039841   55.0\n",
       "Multinomial Regression  0.521115   55.0\n",
       "Neural Net              0.546250   55.0\n",
       "RF                      0.637060   55.0\n",
       "KNN                     0.758409   55.0\n",
       "SVM                     0.758409   55.0"
      ]
     },
     "execution_count": 11,
     "metadata": {},
     "output_type": "execute_result"
    }
   ],
   "source": [
    "df_avg = pd.concat([df1,df1b,df2,df3,df4,df5])\n",
    "\n",
    "df_avg.groupby(['Model']).mean().sort_values('value')\n"
   ]
  },
  {
   "cell_type": "markdown",
   "metadata": {},
   "source": [
    "### Avg accuracy [80,90,100]"
   ]
  },
  {
   "cell_type": "code",
   "execution_count": 12,
   "metadata": {},
   "outputs": [
    {
     "data": {
      "text/html": [
       "<div>\n",
       "<style scoped>\n",
       "    .dataframe tbody tr th:only-of-type {\n",
       "        vertical-align: middle;\n",
       "    }\n",
       "\n",
       "    .dataframe tbody tr th {\n",
       "        vertical-align: top;\n",
       "    }\n",
       "\n",
       "    .dataframe thead th {\n",
       "        text-align: right;\n",
       "    }\n",
       "</style>\n",
       "<table border=\"1\" class=\"dataframe\">\n",
       "  <thead>\n",
       "    <tr style=\"text-align: right;\">\n",
       "      <th></th>\n",
       "      <th>value</th>\n",
       "      <th>split</th>\n",
       "    </tr>\n",
       "    <tr>\n",
       "      <th>Model</th>\n",
       "      <th></th>\n",
       "      <th></th>\n",
       "    </tr>\n",
       "  </thead>\n",
       "  <tbody>\n",
       "    <tr>\n",
       "      <th>KNN</th>\n",
       "      <td>0.692315</td>\n",
       "      <td>90.0</td>\n",
       "    </tr>\n",
       "    <tr>\n",
       "      <th>Multinomial Regression</th>\n",
       "      <td>0.435463</td>\n",
       "      <td>90.0</td>\n",
       "    </tr>\n",
       "    <tr>\n",
       "      <th>Neural Net</th>\n",
       "      <td>0.405833</td>\n",
       "      <td>90.0</td>\n",
       "    </tr>\n",
       "    <tr>\n",
       "      <th>RF</th>\n",
       "      <td>0.495833</td>\n",
       "      <td>90.0</td>\n",
       "    </tr>\n",
       "    <tr>\n",
       "      <th>RF (no scaler)</th>\n",
       "      <td>0.025741</td>\n",
       "      <td>90.0</td>\n",
       "    </tr>\n",
       "    <tr>\n",
       "      <th>SVM</th>\n",
       "      <td>0.692315</td>\n",
       "      <td>90.0</td>\n",
       "    </tr>\n",
       "  </tbody>\n",
       "</table>\n",
       "</div>"
      ],
      "text/plain": [
       "                           value  split\n",
       "Model                                  \n",
       "KNN                     0.692315   90.0\n",
       "Multinomial Regression  0.435463   90.0\n",
       "Neural Net              0.405833   90.0\n",
       "RF                      0.495833   90.0\n",
       "RF (no scaler)          0.025741   90.0\n",
       "SVM                     0.692315   90.0"
      ]
     },
     "execution_count": 12,
     "metadata": {},
     "output_type": "execute_result"
    }
   ],
   "source": [
    "df_avg.groupby('Model').tail(3).groupby('Model').mean()"
   ]
  },
  {
   "cell_type": "markdown",
   "metadata": {},
   "source": [
    "### accuracy metrics: avg authors [10,20,30]"
   ]
  },
  {
   "cell_type": "code",
   "execution_count": 13,
   "metadata": {},
   "outputs": [
    {
     "data": {
      "text/html": [
       "<div>\n",
       "<style scoped>\n",
       "    .dataframe tbody tr th:only-of-type {\n",
       "        vertical-align: middle;\n",
       "    }\n",
       "\n",
       "    .dataframe tbody tr th {\n",
       "        vertical-align: top;\n",
       "    }\n",
       "\n",
       "    .dataframe thead th {\n",
       "        text-align: right;\n",
       "    }\n",
       "</style>\n",
       "<table border=\"1\" class=\"dataframe\">\n",
       "  <thead>\n",
       "    <tr style=\"text-align: right;\">\n",
       "      <th></th>\n",
       "      <th>value</th>\n",
       "      <th>split</th>\n",
       "    </tr>\n",
       "    <tr>\n",
       "      <th>Model</th>\n",
       "      <th></th>\n",
       "      <th></th>\n",
       "    </tr>\n",
       "  </thead>\n",
       "  <tbody>\n",
       "    <tr>\n",
       "      <th>KNN</th>\n",
       "      <td>0.816667</td>\n",
       "      <td>20.0</td>\n",
       "    </tr>\n",
       "    <tr>\n",
       "      <th>Multinomial Regression</th>\n",
       "      <td>0.633333</td>\n",
       "      <td>20.0</td>\n",
       "    </tr>\n",
       "    <tr>\n",
       "      <th>Neural Net</th>\n",
       "      <td>0.700000</td>\n",
       "      <td>20.0</td>\n",
       "    </tr>\n",
       "    <tr>\n",
       "      <th>RF</th>\n",
       "      <td>0.816667</td>\n",
       "      <td>20.0</td>\n",
       "    </tr>\n",
       "    <tr>\n",
       "      <th>RF (no scaler)</th>\n",
       "      <td>0.061111</td>\n",
       "      <td>20.0</td>\n",
       "    </tr>\n",
       "    <tr>\n",
       "      <th>SVM</th>\n",
       "      <td>0.816667</td>\n",
       "      <td>20.0</td>\n",
       "    </tr>\n",
       "  </tbody>\n",
       "</table>\n",
       "</div>"
      ],
      "text/plain": [
       "                           value  split\n",
       "Model                                  \n",
       "KNN                     0.816667   20.0\n",
       "Multinomial Regression  0.633333   20.0\n",
       "Neural Net              0.700000   20.0\n",
       "RF                      0.816667   20.0\n",
       "RF (no scaler)          0.061111   20.0\n",
       "SVM                     0.816667   20.0"
      ]
     },
     "execution_count": 13,
     "metadata": {},
     "output_type": "execute_result"
    }
   ],
   "source": [
    "df_avg.groupby('Model').head(3).groupby('Model').mean()"
   ]
  }
 ],
 "metadata": {
  "interpreter": {
   "hash": "2fa43e22267dbea74266feebc86126203b276319521e1b4ac30d272ff1e19e68"
  },
  "kernelspec": {
   "display_name": "Python 3.9.7 ('base')",
   "language": "python",
   "name": "python3"
  },
  "language_info": {
   "codemirror_mode": {
    "name": "ipython",
    "version": 3
   },
   "file_extension": ".py",
   "mimetype": "text/x-python",
   "name": "python",
   "nbconvert_exporter": "python",
   "pygments_lexer": "ipython3",
   "version": "3.9.7"
  },
  "orig_nbformat": 4
 },
 "nbformat": 4,
 "nbformat_minor": 2
}
