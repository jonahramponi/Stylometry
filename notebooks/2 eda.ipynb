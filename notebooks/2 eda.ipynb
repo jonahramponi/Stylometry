{
 "cells": [
  {
   "cell_type": "code",
   "execution_count": 2,
   "metadata": {},
   "outputs": [],
   "source": [
    "import pandas as pd\n",
    "import numpy as np\n",
    "import seaborn as sns\n",
    "from matplotlib import pyplot as plt\n",
    "import math"
   ]
  },
  {
   "cell_type": "code",
   "execution_count": 3,
   "metadata": {},
   "outputs": [],
   "source": [
    "data = pd.read_csv('../data/Processed/dataframe.csv')"
   ]
  },
  {
   "cell_type": "code",
   "execution_count": 4,
   "metadata": {},
   "outputs": [],
   "source": [
    "data_temp = data.copy()\n",
    "data_temp.drop(['gender','age','unknown','star_sign','id'],axis=1,inplace = True)\n",
    "for i in data_temp.columns:\n",
    "    data_temp[i] = [int(math.modf(x)[1]) for x in data_temp[i]]"
   ]
  },
  {
   "cell_type": "code",
   "execution_count": 5,
   "metadata": {},
   "outputs": [],
   "source": [
    "data_temp\n",
    "other_cols = data[['gender','age','unknown','star_sign','id']]\n",
    "\n",
    "data= pd.concat([other_cols,data_temp],axis=1)"
   ]
  },
  {
   "cell_type": "code",
   "execution_count": 6,
   "metadata": {},
   "outputs": [],
   "source": [
    "data['total_words'] = data.sum(axis=1, numeric_only = True) - data['age'] - data['id']"
   ]
  },
  {
   "cell_type": "code",
   "execution_count": 7,
   "metadata": {},
   "outputs": [],
   "source": [
    "data.set_index('id',inplace = True)"
   ]
  },
  {
   "cell_type": "code",
   "execution_count": 8,
   "metadata": {},
   "outputs": [],
   "source": [
    "data.to_csv('../data/Processed/dataframe_2.csv')"
   ]
  },
  {
   "cell_type": "code",
   "execution_count": 9,
   "metadata": {},
   "outputs": [],
   "source": [
    "non_features = ['gender','age','unknown','star_sign','total_words']\n",
    "features = set(data.columns) - set(non_features) - set(\"total_words\")\n",
    "features = list(features)\n",
    "target = data.index"
   ]
  },
  {
   "cell_type": "code",
   "execution_count": 20,
   "metadata": {},
   "outputs": [
    {
     "data": {
      "text/plain": [
       "unknown\n",
       "Accounting                  105\n",
       "Advertising                 145\n",
       "Agriculture                  36\n",
       "Architecture                 69\n",
       "Arts                        721\n",
       "Automotive                   54\n",
       "Banking                     112\n",
       "Biotech                      57\n",
       "BusinessServices            163\n",
       "Chemicals                    62\n",
       "Communications-Media        479\n",
       "Construction                 55\n",
       "Consulting                  191\n",
       "Education                   980\n",
       "Engineering                 312\n",
       "Environment                  28\n",
       "Fashion                      98\n",
       "Government                  236\n",
       "HumanResources               94\n",
       "Internet                    397\n",
       "InvestmentBanking            33\n",
       "Law                         197\n",
       "LawEnforcement-Security      57\n",
       "Manufacturing                87\n",
       "Maritime                     17\n",
       "Marketing                   180\n",
       "Military                    116\n",
       "Museums-Libraries            55\n",
       "Non-Profit                  372\n",
       "Publishing                  150\n",
       "RealEstate                   55\n",
       "Religion                    139\n",
       "Science                     184\n",
       "Sports-Recreation            90\n",
       "Student                    5120\n",
       "Technology                  943\n",
       "Telecommunications          119\n",
       "Tourism                      94\n",
       "Transportation               91\n",
       "indUnk                     6827\n",
       "Name: age, dtype: int64"
      ]
     },
     "execution_count": 20,
     "metadata": {},
     "output_type": "execute_result"
    }
   ],
   "source": [
    "data.groupby('gender').count()['age']\n",
    "\n",
    "data.groupby('unknown').count()['age']\n",
    "#data.groupby('star_sign').count()['age']\n"
   ]
  },
  {
   "cell_type": "code",
   "execution_count": 131,
   "metadata": {},
   "outputs": [
    {
     "data": {
      "text/plain": [
       "<seaborn.axisgrid.FacetGrid at 0x25ad9cff7c0>"
      ]
     },
     "execution_count": 131,
     "metadata": {},
     "output_type": "execute_result"
    },
    {
     "data": {
      "image/png": "[encoded data removed]",
      "text/plain": [
       "<Figure size 360x360 with 1 Axes>"
      ]
     },
     "metadata": {},
     "output_type": "display_data"
    }
   ],
   "source": [
    "plota = data.groupby('age').mean()['total_words'].reset_index()\n",
    "sns.set_style('white')\n",
    "g = sns.lmplot(data=plota,x=\"age\",y='total_words',fit_reg = True,logx = True, markers = 'x')\n",
    "g = g.set_axis_labels('Age','Total number of words in blog')\n",
    "g.despine()\n",
    "#from scipy import stats \n",
    "#np.corrcoef(plota['age'],plota['total_words'])"
   ]
  },
  {
   "cell_type": "code",
   "execution_count": 139,
   "metadata": {},
   "outputs": [
    {
     "data": {
      "image/png": "[encoded data removed]",
      "text/plain": [
       "<Figure size 432x288 with 1 Axes>"
      ]
     },
     "metadata": {},
     "output_type": "display_data"
    }
   ],
   "source": [
    "g = sns.histplot(data.age)\n",
    "g = g.set_xlabel('Age')\n"
   ]
  }
 ],
 "metadata": {
  "interpreter": {
   "hash": "2fa43e22267dbea74266feebc86126203b276319521e1b4ac30d272ff1e19e68"
  },
  "kernelspec": {
   "display_name": "Python 3.9.7 ('base')",
   "language": "python",
   "name": "python3"
  },
  "language_info": {
   "codemirror_mode": {
    "name": "ipython",
    "version": 3
   },
   "file_extension": ".py",
   "mimetype": "text/x-python",
   "name": "python",
   "nbconvert_exporter": "python",
   "pygments_lexer": "ipython3",
   "version": "3.9.7"
  },
  "orig_nbformat": 4
 },
 "nbformat": 4,
 "nbformat_minor": 2
}
