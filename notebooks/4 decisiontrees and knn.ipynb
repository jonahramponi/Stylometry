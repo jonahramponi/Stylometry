{
 "cells": [
  {
   "cell_type": "code",
   "execution_count": 1,
   "metadata": {},
   "outputs": [],
   "source": [
    "import pandas as pd\n",
    "import numpy as np\n",
    "\n",
    "import os\n",
    "import os.path\n",
    "import re\n",
    "import string\n",
    "import collections\n",
    "import math\n",
    "from collections import Counter\n",
    "import random\n",
    "\n",
    "frequentwords = ['a', 'all', 'also', 'an', 'and', 'any', 'are', 'as', 'at', 'be', 'been', 'but', 'by', 'can', 'do', 'down', 'even', 'every', 'for', 'from', 'had', 'has', 'have', 'her', 'his', 'if', 'in', 'into', 'is', 'it', 'its', 'may', 'more', 'must', 'my', 'no', 'not', 'now', 'of', 'on', 'one', 'only', 'or', 'our', 'shall', 'should', 'so', 'some', 'such', 'than', 'that', 'the', 'their', 'then', 'there', 'things', 'this', 'to', 'up', 'upon', 'was', 'were', 'what', 'when', 'which', 'who', 'will', 'with', 'would', 'your']\n",
    "\n",
    "path = '../data/Raw/blogs/blogs/'\n",
    "files = os.listdir(path)\n",
    "files.sort() \n",
    "\n",
    "df = pd.read_csv('../data/Processed/dataframe_2.csv')\n",
    "df = df.sort_values('total_words', ascending = False)"
   ]
  },
  {
   "cell_type": "code",
   "execution_count": 2,
   "metadata": {},
   "outputs": [],
   "source": [
    "def get_train_test_sample(df,train_n,test_n,take):\n",
    "    target = train_n+test_n\n",
    "    temp = df[df['total_words'] >= target].head(take)\n",
    "    train_vecs = [] \n",
    "    test_vecs = [] \n",
    "    ids = []\n",
    "    for i in temp.iterrows():\n",
    "        words = i[1][-1] - i[1][-2]\n",
    " \n",
    "        random_words =random.sample([i for i in range(0,words)],train_n)\n",
    "\n",
    "        trvec = [] \n",
    "        prev_len = 0\n",
    "        for x in i[1].index:\n",
    "            if np.isin(x,frequentwords) == True:\n",
    "                size = i[1][x]\n",
    "                count = [i for i in random_words if prev_len <= i < prev_len + size ]\n",
    "                prev_len = size\n",
    "                trvec.append(len(count))\n",
    "\n",
    "        random_words = random.sample(list(range(0,words)),test_n)\n",
    "\n",
    "        tevec = [] \n",
    "        prev_len = 0\n",
    "        for x in i[1].index:\n",
    "            if np.isin(x,frequentwords) == True:\n",
    "                size = i[1][x]\n",
    "                count = [i for i in random_words if prev_len <= i < prev_len + size ]\n",
    "                prev_len = size\n",
    "                tevec.append(len(count))\n",
    "\n",
    "        ids.append(i[1][0])\n",
    "        test_vecs.append(tevec)\n",
    "        train_vecs.append(trvec)\n",
    "    return([ids,test_vecs,train_vecs])"
   ]
  },
  {
   "cell_type": "code",
   "execution_count": 22,
   "metadata": {},
   "outputs": [
    {
     "name": "stdout",
     "output_type": "stream",
     "text": [
      "500\n",
      "1000\n",
      "2000\n",
      "3000\n",
      "4000\n",
      "5000\n",
      "6000\n",
      "7000\n",
      "8000\n",
      "9000\n",
      "10000\n"
     ]
    }
   ],
   "source": [
    "from sklearn.svm import SVC\n",
    "from sklearn.tree import DecisionTreeClassifier \n",
    "from sklearn.neighbors import KNeighborsClassifier\n",
    "from sklearn.neural_network import MLPClassifier\n",
    "from sklearn.linear_model import LogisticRegression\n",
    "from sklearn.neighbors import KNeighborsClassifier\n",
    "from sklearn.preprocessing import StandardScaler\n",
    "\n",
    "trains = []\n",
    "tests = []\n",
    "ys = []\n",
    "for i in [500,1000,2000,3000,4000,5000,6000,7000,8000,9000,10000]:\n",
    "#for i in [500,600]:\n",
    "    print(i)\n",
    "    ids,test,train = get_train_test_sample(df,i,int(i/5),100)\n",
    "    X_test = pd.DataFrame(test)\n",
    "    X_train = pd.DataFrame(train)\n",
    "    y = ids\n",
    "\n",
    "    trains.append(X_train)\n",
    "    tests.append(X_test)\n",
    "    ys.append(y)\n"
   ]
  },
  {
   "cell_type": "code",
   "execution_count": 35,
   "metadata": {},
   "outputs": [],
   "source": [
    "tree_predictions = []\n",
    "knn_predictions = []\n",
    "net_predictions = []\n",
    "log_predictions = []\n",
    "no_scaler_t = [] \n"
   ]
  },
  {
   "cell_type": "code",
   "execution_count": 37,
   "metadata": {},
   "outputs": [
    {
     "name": "stdout",
     "output_type": "stream",
     "text": [
      "10000\n"
     ]
    },
    {
     "name": "stderr",
     "output_type": "stream",
     "text": [
      "C:\\Users\\jonah\\anaconda3\\lib\\site-packages\\sklearn\\linear_model\\_sag.py:352: ConvergenceWarning: The max_iter was reached which means the coef_ did not converge\n",
      "  warnings.warn(\n"
     ]
    },
    {
     "name": "stdout",
     "output_type": "stream",
     "text": [
      "10000\n"
     ]
    },
    {
     "name": "stderr",
     "output_type": "stream",
     "text": [
      "C:\\Users\\jonah\\anaconda3\\lib\\site-packages\\sklearn\\linear_model\\_sag.py:352: ConvergenceWarning: The max_iter was reached which means the coef_ did not converge\n",
      "  warnings.warn(\n"
     ]
    },
    {
     "name": "stdout",
     "output_type": "stream",
     "text": [
      "10000\n"
     ]
    },
    {
     "name": "stderr",
     "output_type": "stream",
     "text": [
      "C:\\Users\\jonah\\anaconda3\\lib\\site-packages\\sklearn\\linear_model\\_sag.py:352: ConvergenceWarning: The max_iter was reached which means the coef_ did not converge\n",
      "  warnings.warn(\n"
     ]
    },
    {
     "name": "stdout",
     "output_type": "stream",
     "text": [
      "10000\n"
     ]
    },
    {
     "name": "stderr",
     "output_type": "stream",
     "text": [
      "C:\\Users\\jonah\\anaconda3\\lib\\site-packages\\sklearn\\linear_model\\_sag.py:352: ConvergenceWarning: The max_iter was reached which means the coef_ did not converge\n",
      "  warnings.warn(\n"
     ]
    },
    {
     "name": "stdout",
     "output_type": "stream",
     "text": [
      "10000\n"
     ]
    },
    {
     "name": "stderr",
     "output_type": "stream",
     "text": [
      "C:\\Users\\jonah\\anaconda3\\lib\\site-packages\\sklearn\\linear_model\\_sag.py:352: ConvergenceWarning: The max_iter was reached which means the coef_ did not converge\n",
      "  warnings.warn(\n"
     ]
    },
    {
     "name": "stdout",
     "output_type": "stream",
     "text": [
      "10000\n"
     ]
    },
    {
     "name": "stderr",
     "output_type": "stream",
     "text": [
      "C:\\Users\\jonah\\anaconda3\\lib\\site-packages\\sklearn\\linear_model\\_sag.py:352: ConvergenceWarning: The max_iter was reached which means the coef_ did not converge\n",
      "  warnings.warn(\n"
     ]
    },
    {
     "name": "stdout",
     "output_type": "stream",
     "text": [
      "10000\n"
     ]
    },
    {
     "name": "stderr",
     "output_type": "stream",
     "text": [
      "C:\\Users\\jonah\\anaconda3\\lib\\site-packages\\sklearn\\linear_model\\_sag.py:352: ConvergenceWarning: The max_iter was reached which means the coef_ did not converge\n",
      "  warnings.warn(\n"
     ]
    },
    {
     "name": "stdout",
     "output_type": "stream",
     "text": [
      "10000\n"
     ]
    },
    {
     "name": "stderr",
     "output_type": "stream",
     "text": [
      "C:\\Users\\jonah\\anaconda3\\lib\\site-packages\\sklearn\\linear_model\\_sag.py:352: ConvergenceWarning: The max_iter was reached which means the coef_ did not converge\n",
      "  warnings.warn(\n"
     ]
    },
    {
     "name": "stdout",
     "output_type": "stream",
     "text": [
      "10000\n"
     ]
    },
    {
     "name": "stderr",
     "output_type": "stream",
     "text": [
      "C:\\Users\\jonah\\anaconda3\\lib\\site-packages\\sklearn\\linear_model\\_sag.py:352: ConvergenceWarning: The max_iter was reached which means the coef_ did not converge\n",
      "  warnings.warn(\n"
     ]
    },
    {
     "name": "stdout",
     "output_type": "stream",
     "text": [
      "10000\n"
     ]
    },
    {
     "name": "stderr",
     "output_type": "stream",
     "text": [
      "C:\\Users\\jonah\\anaconda3\\lib\\site-packages\\sklearn\\linear_model\\_sag.py:352: ConvergenceWarning: The max_iter was reached which means the coef_ did not converge\n",
      "  warnings.warn(\n"
     ]
    },
    {
     "name": "stdout",
     "output_type": "stream",
     "text": [
      "10000\n"
     ]
    },
    {
     "name": "stderr",
     "output_type": "stream",
     "text": [
      "C:\\Users\\jonah\\anaconda3\\lib\\site-packages\\sklearn\\linear_model\\_sag.py:352: ConvergenceWarning: The max_iter was reached which means the coef_ did not converge\n",
      "  warnings.warn(\n"
     ]
    }
   ],
   "source": [
    "for j in range (0,len(trains)):\n",
    "    print(i)\n",
    "    X_train = trains[j]\n",
    "    X_test = tests[j]\n",
    "    y = ys[j]\n",
    "\n",
    "    tree_model = KNeighborsClassifier(algorithm = 'brute')\n",
    "    tree_model.fit(X_train,y)\n",
    "    t_predictions = tree_model.predict(X_test)\n",
    "    no_scaler_t.append(sum(np.where(y-t_predictions == 0,1,0))/len(t_predictions))\n",
    "\n",
    "    X_train = StandardScaler().fit_transform(X_train)\n",
    "    X_test = StandardScaler().fit_transform(X_test)\n",
    "\n",
    "    tree_model = DecisionTreeClassifier(max_depth = 200)\n",
    "    knn_model = KNeighborsClassifier(algorithm = 'brute')\n",
    "    net_model = MLPClassifier(solver='adam', alpha=0.001,hidden_layer_sizes=(100, 70),activation = 'logistic',max_iter = 1000)\n",
    "    log_model = LogisticRegression(solver = 'saga',penalty = 'l1',max_iter = 1000)\n",
    "\n",
    "    tree_model.fit(X_train,y)\n",
    "    t_predictions = tree_model.predict(X_test)\n",
    "    tree_predictions.append(sum(np.where(y-t_predictions == 0,1,0))/len(t_predictions))\n",
    "\n",
    "    knn_model.fit(X_train,y)\n",
    "    k_predictions = knn_model.predict(X_test)\n",
    "    knn_predictions.append(sum(np.where(y-k_predictions == 0,1,0))/len(k_predictions))\n",
    "\n",
    "\n",
    "    net_model.fit(X_train,y)\n",
    "    n_predictions = net_model.predict(X_test)\n",
    "    net_predictions.append(sum(np.where(y-n_predictions == 0,1,0))/len(n_predictions))\n",
    "\n",
    "    log_model.fit(X_train,y)\n",
    "    l_predictions = log_model.predict(X_test)\n",
    "    log_predictions.append(sum(np.where(y-l_predictions == 0,1,0))/len(l_predictions))"
   ]
  },
  {
   "cell_type": "code",
   "execution_count": 43,
   "metadata": {},
   "outputs": [
    {
     "name": "stdout",
     "output_type": "stream",
     "text": [
      "got here\n"
     ]
    }
   ],
   "source": [
    "authors = 100\n",
    "splits = [500,1000,2000,3000,4000,5000,6000,7000,8000,9000,10000]\n",
    "\n",
    "df1 = (pd.DataFrame({'value': tree_predictions,'split':splits,'Model': 'KNN'}))\n",
    "df1b = (pd.DataFrame({'value': no_scaler_t,'split':splits,'Model': 'KNN (no scaler)'}))\n",
    "df2 = (pd.DataFrame({'value': knn_predictions,'split':splits,'Model': 'KNN'}))\n",
    "df3 = (pd.DataFrame({'value': net_predictions,'split':splits,'Model': 'Neural Net'}))\n",
    "df4 = (pd.DataFrame({'value': log_predictions,'split':splits,'Model': 'Multinomial Regression'}))\n",
    "print(\"got here\")"
   ]
  },
  {
   "cell_type": "code",
   "execution_count": 44,
   "metadata": {},
   "outputs": [
    {
     "data": {
      "text/plain": [
       "Text(37.936605902777785, 0.5, 'Accuracy')"
      ]
     },
     "execution_count": 44,
     "metadata": {},
     "output_type": "execute_result"
    },
    {
     "data": {
      "image/png": "[encoded data removed]",
      "text/plain": [
       "<Figure size 473.875x360 with 1 Axes>"
      ]
     },
     "metadata": {
      "needs_background": "light"
     },
     "output_type": "display_data"
    }
   ],
   "source": [
    "import seaborn as sns\n",
    "from matplotlib import pyplot as plt\n",
    "#,df2,df3,df4\n",
    "df_plot = pd.concat([df1,df1b])\n",
    "sns.lmplot(data = df_plot,x='split',y='value',hue='Model', palette='coolwarm')\n",
    "plt.xlabel('Number of words in train set')\n",
    "plt.ylabel('Accuracy')"
   ]
  },
  {
   "cell_type": "code",
   "execution_count": 4,
   "metadata": {},
   "outputs": [],
   "source": [
    "df_age = df.drop(['id','gender','unknown','star_sign','total_words'],axis=1)\n",
    "X = df_age.drop(['age'],axis=1)\n",
    "y = df_age['age']"
   ]
  },
  {
   "cell_type": "code",
   "execution_count": 13,
   "metadata": {},
   "outputs": [
    {
     "name": "stdout",
     "output_type": "stream",
     "text": [
      "0\n",
      "1\n",
      "2\n",
      "3\n",
      "4\n",
      "5\n",
      "6\n",
      "7\n",
      "8\n",
      "9\n"
     ]
    }
   ],
   "source": [
    "from sklearn.model_selection import train_test_split\n",
    "from sklearn.metrics import r2_score\n",
    "from sklearn.metrics import mean_absolute_error\n",
    "from sklearn.metrics import mean_squared_error\n",
    "r2 = [] \n",
    "mae = []\n",
    "mse = []\n",
    "for i in range (0,10):\n",
    "    print(i)\n",
    "    X_train,X_test,y_train,y_test = train_test_split(X,y,test_size = 0.2)\n",
    "    lr.fit(X_train,y_train)\n",
    "    r2.append(r2_score(y_test,lr.predict(X_test)))\n",
    "    mae.append(mean_absolute_error(y_test,lr.predict(X_test)))\n",
    "    mse.append(mean_squared_error(y_test,lr.predict(X_test)))\n",
    "    rf.fit(X_train,y_train)\n",
    "    r2.append(r2_score(y_test,rf.predict(X_test)))\n",
    "    mae.append(mean_absolute_error(y_test,rf.predict(X_test)))\n",
    "    mse.append(mean_squared_error(y_test,rf.predict(X_test)))\n",
    "    knn.fit(X_train,y_train)\n",
    "    r2.append(r2_score(y_test,knn.predict(X_test)))\n",
    "    mae.append(mean_absolute_error(y_test,knn.predict(X_test)))\n",
    "    mse.append(mean_squared_error(y_test,knn.predict(X_test)))\n",
    "    mlp.fit(X_train,y_train)\n",
    "    r2.append(r2_score(y_test,mlp.predict(X_test)))\n",
    "    mae.append(mean_absolute_error(y_test,mlp.predict(X_test)))\n",
    "    mse.append(mean_squared_error(y_test,mlp.predict(X_test)))\n"
   ]
  },
  {
   "cell_type": "code",
   "execution_count": 30,
   "metadata": {},
   "outputs": [
    {
     "data": {
      "text/html": [
       "<div>\n",
       "<style scoped>\n",
       "    .dataframe tbody tr th:only-of-type {\n",
       "        vertical-align: middle;\n",
       "    }\n",
       "\n",
       "    .dataframe tbody tr th {\n",
       "        vertical-align: top;\n",
       "    }\n",
       "\n",
       "    .dataframe thead th {\n",
       "        text-align: right;\n",
       "    }\n",
       "</style>\n",
       "<table border=\"1\" class=\"dataframe\">\n",
       "  <thead>\n",
       "    <tr style=\"text-align: right;\">\n",
       "      <th></th>\n",
       "      <th>r2</th>\n",
       "      <th>mae</th>\n",
       "      <th>mse</th>\n",
       "    </tr>\n",
       "    <tr>\n",
       "      <th>Model</th>\n",
       "      <th></th>\n",
       "      <th></th>\n",
       "      <th></th>\n",
       "    </tr>\n",
       "  </thead>\n",
       "  <tbody>\n",
       "    <tr>\n",
       "      <th>KNN</th>\n",
       "      <td>0.115634</td>\n",
       "      <td>5.669896</td>\n",
       "      <td>56.384234</td>\n",
       "    </tr>\n",
       "    <tr>\n",
       "      <th>LR</th>\n",
       "      <td>0.055069</td>\n",
       "      <td>5.985860</td>\n",
       "      <td>60.249715</td>\n",
       "    </tr>\n",
       "    <tr>\n",
       "      <th>NN</th>\n",
       "      <td>0.306903</td>\n",
       "      <td>4.939838</td>\n",
       "      <td>44.192109</td>\n",
       "    </tr>\n",
       "    <tr>\n",
       "      <th>RF</th>\n",
       "      <td>0.189553</td>\n",
       "      <td>5.456208</td>\n",
       "      <td>51.670767</td>\n",
       "    </tr>\n",
       "  </tbody>\n",
       "</table>\n",
       "</div>"
      ],
      "text/plain": [
       "             r2       mae        mse\n",
       "Model                               \n",
       "KNN    0.115634  5.669896  56.384234\n",
       "LR     0.055069  5.985860  60.249715\n",
       "NN     0.306903  4.939838  44.192109\n",
       "RF     0.189553  5.456208  51.670767"
      ]
     },
     "execution_count": 30,
     "metadata": {},
     "output_type": "execute_result"
    }
   ],
   "source": [
    "df_plot2 = pd.DataFrame({'r2':r2,'mae':mae,'mse':mse})\n",
    "\n",
    "df_plot2['Model'] = 10*['LR','RF','KNN','NN']\n",
    "df_plot2.groupby('Model').mean()"
   ]
  }
 ],
 "metadata": {
  "interpreter": {
   "hash": "2fa43e22267dbea74266feebc86126203b276319521e1b4ac30d272ff1e19e68"
  },
  "kernelspec": {
   "display_name": "Python 3.9.7 ('base')",
   "language": "python",
   "name": "python3"
  },
  "language_info": {
   "codemirror_mode": {
    "name": "ipython",
    "version": 3
   },
   "file_extension": ".py",
   "mimetype": "text/x-python",
   "name": "python",
   "nbconvert_exporter": "python",
   "pygments_lexer": "ipython3",
   "version": "3.9.7"
  },
  "orig_nbformat": 4
 },
 "nbformat": 4,
 "nbformat_minor": 2
}
